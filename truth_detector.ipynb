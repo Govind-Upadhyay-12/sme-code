{
 "cells": [
  {
   "cell_type": "code",
   "execution_count": 1,
   "metadata": {},
   "outputs": [
    {
     "ename": "ModuleNotFoundError",
     "evalue": "No module named 'tensorflow'",
     "output_type": "error",
     "traceback": [
      "\u001b[1;31m---------------------------------------------------------------------------\u001b[0m",
      "\u001b[1;31mModuleNotFoundError\u001b[0m                       Traceback (most recent call last)",
      "Cell \u001b[1;32mIn[1], line 2\u001b[0m\n\u001b[0;32m      1\u001b[0m \u001b[38;5;28;01mimport\u001b[39;00m \u001b[38;5;21;01mnumpy\u001b[39;00m \u001b[38;5;28;01mas\u001b[39;00m \u001b[38;5;21;01mnp\u001b[39;00m\n\u001b[1;32m----> 2\u001b[0m \u001b[38;5;28;01mimport\u001b[39;00m \u001b[38;5;21;01mtensorflow\u001b[39;00m \u001b[38;5;28;01mas\u001b[39;00m \u001b[38;5;21;01mtf\u001b[39;00m\n\u001b[0;32m      3\u001b[0m \u001b[38;5;28;01mfrom\u001b[39;00m \u001b[38;5;21;01mtensorflow\u001b[39;00m\u001b[38;5;21;01m.\u001b[39;00m\u001b[38;5;21;01mkeras\u001b[39;00m \u001b[38;5;28;01mimport\u001b[39;00m layers, models\n\u001b[0;32m      4\u001b[0m \u001b[38;5;28;01mfrom\u001b[39;00m \u001b[38;5;21;01msklearn\u001b[39;00m\u001b[38;5;21;01m.\u001b[39;00m\u001b[38;5;21;01mmodel_selection\u001b[39;00m \u001b[38;5;28;01mimport\u001b[39;00m train_test_split\n",
      "\u001b[1;31mModuleNotFoundError\u001b[0m: No module named 'tensorflow'"
     ]
    }
   ],
   "source": [
    "import numpy as np\n",
    "import tensorflow as tf\n",
    "from tensorflow.keras import layers, models\n",
    "from sklearn.model_selection import train_test_split\n",
    "\n",
    "# Assuming you have your data in arrays text_data, image_data, and labels\n",
    "# text_data: Array of tokenized text data\n",
    "# image_data: Array of image data (e.g., pixel values)\n",
    "# labels: Array of binary labels indicating whether each sample is true or false\n",
    "\n",
    "# Split the data into training, validation, and test sets\n",
    "text_train, text_test, image_train, image_test, labels_train, labels_test = train_test_split(\n",
    "    text_data, image_data, labels, test_size=0.2, random_state=42)\n",
    "text_train, text_val, image_train, image_val, labels_train, labels_val = train_test_split(\n",
    "    text_train, image_train, labels_train, test_size=0.2, random_state=42)\n",
    "\n",
    "# Define constants\n",
    "max_text_length = 100  # Maximum length of text sequences\n",
    "vocab_size = 10000     # Size of the vocabulary\n",
    "embedding_dim = 100    # Dimension of the word embeddings\n",
    "image_height = 64     # Height of the input images\n",
    "image_width = 64      # Width of the input images\n",
    "\n",
    "# Define the neural network architecture\n",
    "def create_truth_detector():\n",
    "    # Text input branch\n",
    "    text_input = layers.Input(shape=(max_text_length,), dtype='int32')\n",
    "    text_embedding = layers.Embedding(vocab_size, embedding_dim, input_length=max_text_length)(text_input)\n",
    "    text_lstm = layers.LSTM(64)(text_embedding)\n",
    "\n",
    "    # Image input branch\n",
    "    image_input = layers.Input(shape=(image_height, image_width, 3))\n",
    "    image_cnn = models.Sequential([\n",
    "        layers.Conv2D(32, (3, 3), activation='relu', input_shape=(image_height, image_width, 3)),\n",
    "        layers.MaxPooling2D((2, 2)),\n",
    "        layers.Conv2D(64, (3, 3), activation='relu'),\n",
    "        layers.MaxPooling2D((2, 2)),\n",
    "        layers.Conv2D(128, (3, 3), activation='relu'),\n",
    "        layers.MaxPooling2D((2, 2)),\n",
    "        layers.Flatten(),\n",
    "        layers.Dense(64, activation='relu')\n",
    "    ])(image_input)\n",
    "\n",
    "    # Concatenate text and image branches\n",
    "    combined = layers.concatenate([text_lstm, image_cnn])\n",
    "\n",
    "    # Fully connected layers for classification\n",
    "    dense1 = layers.Dense(128, activation='relu')(combined)\n",
    "    output = layers.Dense(1, activation='sigmoid')(dense1)\n",
    "\n",
    "    # Define the model\n",
    "    model = models.Model(inputs=[text_input, image_input], outputs=output)\n",
    "    return model\n",
    "\n",
    "# Create an instance of the Truth Detector model\n",
    "truth_detector = create_truth_detector()\n",
    "\n",
    "# Compile the model\n",
    "truth_detector.compile(optimizer='adam',\n",
    "                       loss='binary_crossentropy',\n",
    "                       metrics=['accuracy'])\n",
    "\n",
    "# Train the model\n",
    "history = truth_detector.fit([text_train, image_train], labels_train, \n",
    "                             epochs=10, batch_size=32, \n",
    "                             validation_data=([text_val, image_val], labels_val))\n",
    "\n",
    "# Evaluate the model\n",
    "loss, accuracy = truth_detector.evaluate([text_test, image_test], labels_test)\n",
    "print(\"Test Loss:\", loss)\n",
    "print(\"Test Accuracy:\", accuracy)\n"
   ]
  }
 ],
 "metadata": {
  "kernelspec": {
   "display_name": "Python 3",
   "language": "python",
   "name": "python3"
  },
  "language_info": {
   "codemirror_mode": {
    "name": "ipython",
    "version": 3
   },
   "file_extension": ".py",
   "mimetype": "text/x-python",
   "name": "python",
   "nbconvert_exporter": "python",
   "pygments_lexer": "ipython3",
   "version": "3.10.9"
  }
 },
 "nbformat": 4,
 "nbformat_minor": 2
}
